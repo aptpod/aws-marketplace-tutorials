{
 "cells": [
  {
   "cell_type": "markdown",
   "metadata": {},
   "source": [
    "# 汎用センサー型向け 信号定義サンプル\n",
    "iPhoneのセンサー情報をFloat型に変換するための信号定義を登録します。 \n",
    "\n",
    "```\n",
    "Warning :\n",
    "    既にサーバーに信号定義が登録されていた場合、同じlabelの信号定義を登録することはできません。\n",
    "    サーバーに対象の信号定義が登録されていないことを確認し、実行してください。 \n",
    "    既に登録されている信号定義を確認したい場合、signals.list() を実行してください。\n",
    "```\n",
    "\n",
    "\n",
    "## データ種別一覧\n",
    "\n",
    "汎用センサーデータには、以下のデータ種別が設けられています。\n",
    "\n",
    "| ID     | 英名                                                                                      | 和名                      |\n",
    "|:-------|:------------------------------------------------------------------------------------------|:--------------------------|\n",
    "| 0x0001 | Acceleration                    | 加速度 **(チュートリアルで使用)**                   |\n",
    "| 0x0002 | Acceleration Including Gravity | 加速度+重力加速度         |\n",
    "| 0x0003 | Gravity                       | 重力加速度                |\n",
    "| 0x0004 | Rotation Rate              | 回転速度                    |\n",
    "| 0x0005 |Orientation Angle            | 回転角度 **(チュートリアルで使用)**              |\n",
    "| 0x0006 | GeoLocation Coordinate      | 地理的位置情報 座標     |\n",
    "| 0x0007 | GeoLocation Altitude     | 地理的位置情報 高度     |\n",
    "| 0x0008 | GeoLocation Accuracy       | 地理的位置情報 精度     |\n",
    "| 0x0009 | GeoLocation Heading      | 地理的位置情報 方角     |\n",
    "| 0x000A | GeoLocation Speed     | 地理的位置情報 移動速度 "
   ]
  },
  {
   "cell_type": "markdown",
   "metadata": {},
   "source": [
    "## 事前準備"
   ]
  },
  {
   "cell_type": "markdown",
   "metadata": {},
   "source": [
    "クライアントを生成します。"
   ]
  },
  {
   "cell_type": "code",
   "execution_count": 1,
   "metadata": {},
   "outputs": [],
   "source": [
    "import intdash \n",
    "\n",
    "client = intdash.Client(\n",
    "    url = \"https://example.intdash.jp\",\n",
    "    username = \"edge1\",\n",
    "    password=\"password_here\"\n",
    ")\n"
   ]
  },
  {
   "cell_type": "markdown",
   "metadata": {},
   "source": [
    "信号定義のアクセスオブジェクトを生成します。"
   ]
  },
  {
   "cell_type": "code",
   "execution_count": 3,
   "metadata": {},
   "outputs": [],
   "source": [
    "sig = client.signals"
   ]
  },
  {
   "cell_type": "markdown",
   "metadata": {},
   "source": [
    "## 信号定義の登録"
   ]
  },
  {
   "cell_type": "markdown",
   "metadata": {},
   "source": [
    "### 0001 Acceleration"
   ]
  },
  {
   "cell_type": "markdown",
   "metadata": {},
   "source": [
    "物体に作用する3軸の加速度"
   ]
  },
  {
   "cell_type": "code",
   "execution_count": 4,
   "metadata": {
    "scrolled": false
   },
   "outputs": [
    {
     "name": "stdout",
     "output_type": "stream",
     "text": [
      "uuid: 602856ac-b539-465c-8e93-f9798bf4d895\n",
      "label: sp_ACCX\n",
      "description: \n",
      "data_type: 3\n",
      "data_id: 0001\n",
      "channel: 1\n",
      "conversion: startbit: 0\n",
      "bitsize: 32\n",
      "endian: little\n",
      "sign: signed\n",
      "scale: 1e-06\n",
      "offset: 0\n",
      "display: unit: \n",
      "min: -10\n",
      "max: 10\n",
      "format: %f\n",
      "hash: sha256:f0cd5e4e51b201ac66f69ee8e2767368facc9aab942eb64f6772cef6fbfe8d55\n",
      "created_at: 2020-08-12 09:19:40.295917+00:00\n",
      "updated_at: 2020-08-12 09:19:40.295917+00:00\n"
     ]
    }
   ],
   "source": [
    "\n",
    "s = sig.create(\n",
    "    label=\"sp_ACCX\",\n",
    "    data_type=intdash.DataType.general_sensor,\n",
    "    data_id=\"0001\",\n",
    "    channel=1,\n",
    "    conversion=intdash.ConversionNumFixedPoint(\n",
    "        startbit=0,\n",
    "        bitsize=32,\n",
    "        endian=\"little\",\n",
    "        sign=\"signed\",\n",
    "        scale=0.000001,\n",
    "        offset=0,\n",
    "    ),\n",
    "    display=intdash.Display(\n",
    "        unit=\"\",\n",
    "        min=-10,\n",
    "        max=10,\n",
    "        format=\"%f\",\n",
    "    ),\n",
    ")\n",
    "\n",
    "print(s)"
   ]
  },
  {
   "cell_type": "code",
   "execution_count": 5,
   "metadata": {},
   "outputs": [
    {
     "name": "stdout",
     "output_type": "stream",
     "text": [
      "uuid: 53b16cd8-90b3-440b-a177-c31860e66e3e\n",
      "label: sp_ACCY\n",
      "description: \n",
      "data_type: 3\n",
      "data_id: 0001\n",
      "channel: 1\n",
      "conversion: startbit: 32\n",
      "bitsize: 32\n",
      "endian: little\n",
      "sign: signed\n",
      "scale: 1e-06\n",
      "offset: 0\n",
      "display: unit: \n",
      "min: -10\n",
      "max: 10\n",
      "format: %f\n",
      "hash: sha256:990698da97c7a875ea9fc26d6ddefa503778b8f1063034eadc95775b3a57daeb\n",
      "created_at: 2020-08-12 09:19:41.142285+00:00\n",
      "updated_at: 2020-08-12 09:19:41.142285+00:00\n"
     ]
    }
   ],
   "source": [
    "s = sig.create(\n",
    "    label=\"sp_ACCY\",\n",
    "    data_type=intdash.DataType.general_sensor,\n",
    "    data_id=\"0001\",\n",
    "    channel=1,\n",
    "    conversion=intdash.ConversionNumFixedPoint(\n",
    "        startbit=32,\n",
    "        bitsize=32,\n",
    "        endian=\"little\",\n",
    "        sign=\"signed\",\n",
    "        scale=0.000001,\n",
    "        offset=0,\n",
    "    ),\n",
    "    display=intdash.Display(\n",
    "        unit=\"\",\n",
    "        min=-10,\n",
    "        max=10,\n",
    "        format=\"%f\",\n",
    "    ),\n",
    ")\n",
    "\n",
    "print(s)"
   ]
  },
  {
   "cell_type": "code",
   "execution_count": 6,
   "metadata": {},
   "outputs": [
    {
     "name": "stdout",
     "output_type": "stream",
     "text": [
      "uuid: f49e7e23-bced-4f9f-86a4-e0ea4389c460\n",
      "label: sp_ACCZ\n",
      "description: \n",
      "data_type: 3\n",
      "data_id: 0001\n",
      "channel: 1\n",
      "conversion: startbit: 64\n",
      "bitsize: 32\n",
      "endian: little\n",
      "sign: signed\n",
      "scale: 1e-06\n",
      "offset: 0\n",
      "display: unit: \n",
      "min: -10\n",
      "max: 10\n",
      "format: %f\n",
      "hash: sha256:d8e103791dbebdf9e2e5d3ef7734f6b753c9ef87696f86d63fb11daeefe882fb\n",
      "created_at: 2020-08-12 09:19:41.909019+00:00\n",
      "updated_at: 2020-08-12 09:19:41.909019+00:00\n"
     ]
    }
   ],
   "source": [
    "s = sig.create(\n",
    "    label=\"sp_ACCZ\",\n",
    "    data_type=intdash.DataType.general_sensor,\n",
    "    data_id=\"0001\",\n",
    "    channel=1,\n",
    "    conversion=intdash.ConversionNumFixedPoint(\n",
    "        startbit=64,\n",
    "        bitsize=32,\n",
    "        endian=\"little\",\n",
    "        sign=\"signed\",\n",
    "        scale=0.000001,\n",
    "        offset=0,\n",
    "    ),\n",
    "    display=intdash.Display(\n",
    "        unit=\"\",\n",
    "        min=-10,\n",
    "        max=10,\n",
    "        format=\"%f\",\n",
    "    ),\n",
    ")\n",
    "\n",
    "print(s)"
   ]
  },
  {
   "cell_type": "markdown",
   "metadata": {},
   "source": [
    "###  0002 Acceleration Including Gravity"
   ]
  },
  {
   "cell_type": "markdown",
   "metadata": {},
   "source": [
    "物体に作用する、重力を含む3軸の加速度"
   ]
  },
  {
   "cell_type": "code",
   "execution_count": 7,
   "metadata": {},
   "outputs": [
    {
     "name": "stdout",
     "output_type": "stream",
     "text": [
      "uuid: fb5f07ee-8709-4fec-9d7e-bb2b42df544c\n",
      "label: sp_AGX\n",
      "description: \n",
      "data_type: 3\n",
      "data_id: 0002\n",
      "channel: 1\n",
      "conversion: startbit: 0\n",
      "bitsize: 32\n",
      "endian: little\n",
      "sign: signed\n",
      "scale: 1e-06\n",
      "offset: 0\n",
      "display: unit: \n",
      "min: -10\n",
      "max: 10\n",
      "format: %f\n",
      "hash: sha256:a83e975e7e7789ea532189c7856caec3c9e05712b4c8e55a898a7fb7274e8640\n",
      "created_at: 2019-12-25 01:20:04.461425+00:00\n",
      "updated_at: 2019-12-25 01:20:04.461425+00:00\n"
     ]
    }
   ],
   "source": [
    "\n",
    "s = sig.create(\n",
    "    label=\"sp_AGX\",\n",
    "    data_type=intdash.DataType.general_sensor,\n",
    "    data_id=\"0002\",\n",
    "    channel=1,\n",
    "    conversion=intdash.ConversionNumFixedPoint(\n",
    "        startbit=0,\n",
    "        bitsize=32,\n",
    "        endian=\"little\",\n",
    "        sign=\"signed\",\n",
    "        scale=0.000001,\n",
    "        offset=0,\n",
    "    ),\n",
    "    display=intdash.Display(\n",
    "        unit=\"\",\n",
    "        min=-10,\n",
    "        max=10,\n",
    "        format=\"%f\",\n",
    "    ),\n",
    ")\n",
    "\n",
    "print(s)"
   ]
  },
  {
   "cell_type": "code",
   "execution_count": 8,
   "metadata": {},
   "outputs": [
    {
     "name": "stdout",
     "output_type": "stream",
     "text": [
      "uuid: 98d47d86-b6c5-4353-9d68-cb4f7422f263\n",
      "label: sp_AGY\n",
      "description: \n",
      "data_type: 3\n",
      "data_id: 0002\n",
      "channel: 1\n",
      "conversion: startbit: 32\n",
      "bitsize: 32\n",
      "endian: little\n",
      "sign: signed\n",
      "scale: 1e-06\n",
      "offset: 0\n",
      "display: unit: \n",
      "min: -10\n",
      "max: 10\n",
      "format: %f\n",
      "hash: sha256:63201d2dfb257f3f8d0faf8d39c610ff8e55ed4895b47548d6432fab6799dd8f\n",
      "created_at: 2019-12-25 01:20:06.923193+00:00\n",
      "updated_at: 2019-12-25 01:20:06.923193+00:00\n"
     ]
    }
   ],
   "source": [
    "\n",
    "s = sig.create(\n",
    "    label=\"sp_AGY\",\n",
    "    data_type=intdash.DataType.general_sensor,\n",
    "    data_id=\"0002\",\n",
    "    channel=1,\n",
    "    conversion=intdash.ConversionNumFixedPoint(\n",
    "        startbit=32,\n",
    "        bitsize=32,\n",
    "        endian=\"little\",\n",
    "        sign=\"signed\",\n",
    "        scale=0.000001,\n",
    "        offset=0,\n",
    "    ),\n",
    "    display=intdash.Display(\n",
    "        unit=\"\",\n",
    "        min=-10,\n",
    "        max=10,\n",
    "        format=\"%f\",\n",
    "    ),\n",
    ")\n",
    "\n",
    "print(s)"
   ]
  },
  {
   "cell_type": "code",
   "execution_count": 9,
   "metadata": {},
   "outputs": [
    {
     "name": "stdout",
     "output_type": "stream",
     "text": [
      "uuid: c6f2c096-9caf-425d-bb33-d47c4622cd50\n",
      "label: sp_AGZ\n",
      "description: \n",
      "data_type: 3\n",
      "data_id: 0002\n",
      "channel: 1\n",
      "conversion: startbit: 64\n",
      "bitsize: 32\n",
      "endian: little\n",
      "sign: signed\n",
      "scale: 1e-06\n",
      "offset: 0\n",
      "display: unit: \n",
      "min: -10\n",
      "max: 10\n",
      "format: %f\n",
      "hash: sha256:e602b5a4e3259a2518d92e44cb2d3fe4d25e06c4109c83bb6e3e2116fcc00eac\n",
      "created_at: 2019-12-25 01:20:10.495558+00:00\n",
      "updated_at: 2019-12-25 01:20:10.495558+00:00\n"
     ]
    }
   ],
   "source": [
    "\n",
    "s = sig.create(\n",
    "    label=\"sp_AGZ\",\n",
    "    data_type=intdash.DataType.general_sensor,\n",
    "    data_id=\"0002\",\n",
    "    channel=1,\n",
    "    conversion=intdash.ConversionNumFixedPoint(\n",
    "        startbit=64,\n",
    "        bitsize=32,\n",
    "        endian=\"little\",\n",
    "        sign=\"signed\",\n",
    "        scale=0.000001,\n",
    "        offset=0,\n",
    "    ),\n",
    "    display=intdash.Display(\n",
    "        unit=\"\",\n",
    "        min=-10,\n",
    "        max=10,\n",
    "        format=\"%f\",\n",
    "    ),\n",
    ")\n",
    "\n",
    "print(s)"
   ]
  },
  {
   "cell_type": "markdown",
   "metadata": {},
   "source": [
    "### 0003 Gravity"
   ]
  },
  {
   "cell_type": "markdown",
   "metadata": {},
   "source": [
    "物体に作用する3軸の重力加速度"
   ]
  },
  {
   "cell_type": "code",
   "execution_count": 10,
   "metadata": {},
   "outputs": [
    {
     "name": "stdout",
     "output_type": "stream",
     "text": [
      "uuid: 84f2917d-0c2f-47da-86a3-2657c18a3245\n",
      "label: sp_GX\n",
      "description: \n",
      "data_type: 3\n",
      "data_id: 0003\n",
      "channel: 1\n",
      "conversion: startbit: 0\n",
      "bitsize: 32\n",
      "endian: little\n",
      "sign: signed\n",
      "scale: 1e-06\n",
      "offset: 0\n",
      "display: unit: \n",
      "min: -10\n",
      "max: 10\n",
      "format: %f\n",
      "hash: sha256:e59434b92513fd9bb62869b4181059afaf994ad10c5c28748f6699938f014cd8\n",
      "created_at: 2019-12-25 01:20:13.723782+00:00\n",
      "updated_at: 2019-12-25 01:20:13.723782+00:00\n"
     ]
    }
   ],
   "source": [
    "\n",
    "s = sig.create(\n",
    "    label=\"sp_GX\",\n",
    "    data_type=intdash.DataType.general_sensor,\n",
    "    data_id=\"0003\",\n",
    "    channel=1,\n",
    "    conversion=intdash.ConversionNumFixedPoint(\n",
    "        startbit=0,\n",
    "        bitsize=32,\n",
    "        endian=\"little\",\n",
    "        sign=\"signed\",\n",
    "        scale=0.000001,\n",
    "        offset=0,\n",
    "    ),\n",
    "    display=intdash.Display(\n",
    "        unit=\"\",\n",
    "        min=-10,\n",
    "        max=10,\n",
    "        format=\"%f\",\n",
    "    ),\n",
    ")\n",
    "\n",
    "print(s)"
   ]
  },
  {
   "cell_type": "code",
   "execution_count": 11,
   "metadata": {},
   "outputs": [
    {
     "name": "stdout",
     "output_type": "stream",
     "text": [
      "uuid: 45e3e0b6-93c9-4c03-9ee5-7f165804c2aa\n",
      "label: sp_GY\n",
      "description: \n",
      "data_type: 3\n",
      "data_id: 0003\n",
      "channel: 1\n",
      "conversion: startbit: 32\n",
      "bitsize: 32\n",
      "endian: little\n",
      "sign: signed\n",
      "scale: 1e-06\n",
      "offset: 0\n",
      "display: unit: \n",
      "min: -10\n",
      "max: 10\n",
      "format: %f\n",
      "hash: sha256:357ab8dc9b9d9e6200a2b53ad82eeab6b02cf40665696575c58fcf8bacb0293f\n",
      "created_at: 2019-12-25 01:20:33.386609+00:00\n",
      "updated_at: 2019-12-25 01:20:33.386609+00:00\n"
     ]
    }
   ],
   "source": [
    "\n",
    "s = sig.create(\n",
    "    label=\"sp_GY\",\n",
    "    data_type=intdash.DataType.general_sensor,\n",
    "    data_id=\"0003\",\n",
    "    channel=1,\n",
    "    conversion=intdash.ConversionNumFixedPoint(\n",
    "        startbit=32,\n",
    "        bitsize=32,\n",
    "        endian=\"little\",\n",
    "        sign=\"signed\",\n",
    "        scale=0.000001,\n",
    "        offset=0,\n",
    "    ),\n",
    "    display=intdash.Display(\n",
    "        unit=\"\",\n",
    "        min=-10,\n",
    "        max=10,\n",
    "        format=\"%f\",\n",
    "    ),\n",
    ")\n",
    "\n",
    "print(s)"
   ]
  },
  {
   "cell_type": "code",
   "execution_count": 12,
   "metadata": {},
   "outputs": [
    {
     "name": "stdout",
     "output_type": "stream",
     "text": [
      "uuid: 582a75b4-abe2-4443-9956-fb5a4fcf9f94\n",
      "label: sp_GZ\n",
      "description: \n",
      "data_type: 3\n",
      "data_id: 0003\n",
      "channel: 1\n",
      "conversion: startbit: 64\n",
      "bitsize: 32\n",
      "endian: little\n",
      "sign: signed\n",
      "scale: 1e-06\n",
      "offset: 0\n",
      "display: unit: \n",
      "min: -10\n",
      "max: 10\n",
      "format: %f\n",
      "hash: sha256:0776a43d411d8bfb5075fdfeb3ab8894a305084af27437abc13c933fff9cc173\n",
      "created_at: 2019-12-25 01:20:37.453240+00:00\n",
      "updated_at: 2019-12-25 01:20:37.453240+00:00\n"
     ]
    }
   ],
   "source": [
    "\n",
    "s = sig.create(\n",
    "    label=\"sp_GZ\",\n",
    "    data_type=intdash.DataType.general_sensor,\n",
    "    data_id=\"0003\",\n",
    "    channel=1,\n",
    "    conversion=intdash.ConversionNumFixedPoint(\n",
    "        startbit=64,\n",
    "        bitsize=32,\n",
    "        endian=\"little\",\n",
    "        sign=\"signed\",\n",
    "        scale=0.000001,\n",
    "        offset=0,\n",
    "    ),\n",
    "    display=intdash.Display(\n",
    "        unit=\"\",\n",
    "        min=-10,\n",
    "        max=10,\n",
    "        format=\"%f\",\n",
    "    ),\n",
    ")\n",
    "\n",
    "print(s)"
   ]
  },
  {
   "cell_type": "markdown",
   "metadata": {},
   "source": [
    "### 0004 Rotation Rate"
   ]
  },
  {
   "cell_type": "markdown",
   "metadata": {},
   "source": [
    "物体の3軸の回転速度"
   ]
  },
  {
   "cell_type": "code",
   "execution_count": 5,
   "metadata": {},
   "outputs": [
    {
     "name": "stdout",
     "output_type": "stream",
     "text": [
      "uuid: 5051b47a-9aa2-4e8c-b530-2b366d8837d4\n",
      "label: sp_Yaw\n",
      "description: \n",
      "data_type: 3\n",
      "data_id: 0004\n",
      "channel: 1\n",
      "conversion: startbit: 0\n",
      "bitsize: 32\n",
      "endian: little\n",
      "sign: signed\n",
      "scale: 1e-05\n",
      "offset: 0\n",
      "display: unit: \n",
      "min: -10\n",
      "max: 10\n",
      "format: %f\n",
      "hash: sha256:34116f8f98696bdc1c62f65402b7100f76c6c48453960dd3781d472914e4b2f4\n",
      "created_at: 2020-07-28 09:11:04.479770+00:00\n",
      "updated_at: 2020-07-28 09:11:04.479770+00:00\n"
     ]
    }
   ],
   "source": [
    "\n",
    "s = sig.create(\n",
    "    label=\"sp_RRA\",\n",
    "    data_type=intdash.DataType.general_sensor,\n",
    "    data_id=\"0004\",\n",
    "    channel=1,\n",
    "    conversion=intdash.ConversionNumFixedPoint(\n",
    "        startbit=0,\n",
    "        bitsize=32,\n",
    "        endian=\"little\",\n",
    "        sign=\"signed\",\n",
    "        scale=0.00001,\n",
    "        offset=0,\n",
    "    ),\n",
    "    display=intdash.Display(\n",
    "        unit=\"\",\n",
    "        min=-10,\n",
    "        max=10,\n",
    "        format=\"%f\",\n",
    "    ),\n",
    ")\n",
    "\n",
    "print(s)"
   ]
  },
  {
   "cell_type": "code",
   "execution_count": 6,
   "metadata": {},
   "outputs": [
    {
     "name": "stdout",
     "output_type": "stream",
     "text": [
      "uuid: a17c3719-af70-4535-ba1d-ed524d8f729a\n",
      "label: sp_Pitch\n",
      "description: \n",
      "data_type: 3\n",
      "data_id: 0004\n",
      "channel: 1\n",
      "conversion: startbit: 32\n",
      "bitsize: 32\n",
      "endian: little\n",
      "sign: signed\n",
      "scale: 1e-05\n",
      "offset: 0\n",
      "display: unit: \n",
      "min: -10\n",
      "max: 10\n",
      "format: %f\n",
      "hash: sha256:c304af91857a9917d16f68115c1704682eb9367e66cb0bdc2eb126c5fbbfc4dc\n",
      "created_at: 2020-07-28 09:11:06.260550+00:00\n",
      "updated_at: 2020-07-28 09:11:06.260550+00:00\n"
     ]
    }
   ],
   "source": [
    "\n",
    "s = sig.create(\n",
    "    label=\"sp_RRB\",\n",
    "    data_type=intdash.DataType.general_sensor,\n",
    "    data_id=\"0004\",\n",
    "    channel=1,\n",
    "    conversion=intdash.ConversionNumFixedPoint(\n",
    "        startbit=32,\n",
    "        bitsize=32,\n",
    "        endian=\"little\",\n",
    "        sign=\"signed\",\n",
    "        scale=0.00001,\n",
    "        offset=0,\n",
    "    ),\n",
    "    display=intdash.Display(\n",
    "        unit=\"\",\n",
    "        min=-10,\n",
    "        max=10,\n",
    "        format=\"%f\",\n",
    "    ),\n",
    ")\n",
    "\n",
    "print(s)"
   ]
  },
  {
   "cell_type": "code",
   "execution_count": 7,
   "metadata": {},
   "outputs": [
    {
     "name": "stdout",
     "output_type": "stream",
     "text": [
      "uuid: 06f1bd8e-4763-40b8-a7c5-9c0e07a0f7cb\n",
      "label: sp_Roll\n",
      "description: \n",
      "data_type: 3\n",
      "data_id: 0004\n",
      "channel: 1\n",
      "conversion: startbit: 64\n",
      "bitsize: 32\n",
      "endian: little\n",
      "sign: signed\n",
      "scale: 1e-05\n",
      "offset: 0\n",
      "display: unit: \n",
      "min: -10\n",
      "max: 10\n",
      "format: %f\n",
      "hash: sha256:8c6191b82f57f8f004b393212bdccbfd8cd1bfc05b5bd40c93e8d352cc35e9c4\n",
      "created_at: 2020-07-28 09:11:07.948368+00:00\n",
      "updated_at: 2020-07-28 09:11:07.948368+00:00\n"
     ]
    }
   ],
   "source": [
    "\n",
    "s = sig.create(\n",
    "    label=\"sp_RRG\",\n",
    "    data_type=intdash.DataType.general_sensor,\n",
    "    data_id=\"0004\",\n",
    "    channel=1,\n",
    "    conversion=intdash.ConversionNumFixedPoint(\n",
    "        startbit=64,\n",
    "        bitsize=32,\n",
    "        endian=\"little\",\n",
    "        sign=\"signed\",\n",
    "        scale=0.00001,\n",
    "        offset=0,\n",
    "    ),\n",
    "    display=intdash.Display(\n",
    "        unit=\"\",\n",
    "        min=-10,\n",
    "        max=10,\n",
    "        format=\"%f\",\n",
    "    ),\n",
    ")\n",
    "\n",
    "print(s)"
   ]
  },
  {
   "cell_type": "markdown",
   "metadata": {},
   "source": [
    "### 0005 Orientation Angle"
   ]
  },
  {
   "cell_type": "markdown",
   "metadata": {},
   "source": [
    "物体の3軸の回転角度"
   ]
  },
  {
   "cell_type": "code",
   "execution_count": 7,
   "metadata": {},
   "outputs": [
    {
     "name": "stdout",
     "output_type": "stream",
     "text": [
      "uuid: 444af402-d59e-4edb-a672-0d9300c6e8eb\n",
      "label: sp_Yaw\n",
      "description: \n",
      "data_type: 3\n",
      "data_id: 0005\n",
      "channel: 1\n",
      "conversion: startbit: 0\n",
      "bitsize: 32\n",
      "endian: little\n",
      "sign: signed\n",
      "scale: 1e-06\n",
      "offset: 0\n",
      "display: unit: \n",
      "min: -10\n",
      "max: 10\n",
      "format: %f\n",
      "hash: sha256:14214336b317924f1f6abd918299c9cb6395d2e638f0d4e4395a05a259a9353d\n",
      "created_at: 2020-08-12 09:19:50.786714+00:00\n",
      "updated_at: 2020-08-12 09:19:50.786714+00:00\n"
     ]
    }
   ],
   "source": [
    "\n",
    "s = sig.create(\n",
    "    label=\"sp_Yaw\",\n",
    "    data_type=intdash.DataType.general_sensor,\n",
    "    data_id=\"0005\",\n",
    "    channel=1,\n",
    "    conversion=intdash.ConversionNumFixedPoint(\n",
    "        startbit=0,\n",
    "        bitsize=32,\n",
    "        endian=\"little\",\n",
    "        sign=\"signed\",\n",
    "        scale=0.000001,\n",
    "        offset=0,\n",
    "    ),\n",
    "    display=intdash.Display(\n",
    "        unit=\"\",\n",
    "        min=-10,\n",
    "        max=10,\n",
    "        format=\"%f\",\n",
    "    ),\n",
    ")\n",
    "\n",
    "print(s)"
   ]
  },
  {
   "cell_type": "code",
   "execution_count": 8,
   "metadata": {},
   "outputs": [
    {
     "name": "stdout",
     "output_type": "stream",
     "text": [
      "uuid: 288e1a58-2301-4ff9-82c1-036758263a60\n",
      "label: sp_Pitch\n",
      "description: \n",
      "data_type: 3\n",
      "data_id: 0005\n",
      "channel: 1\n",
      "conversion: startbit: 32\n",
      "bitsize: 32\n",
      "endian: little\n",
      "sign: signed\n",
      "scale: 1e-06\n",
      "offset: 0\n",
      "display: unit: \n",
      "min: -10\n",
      "max: 10\n",
      "format: %f\n",
      "hash: sha256:d3ad354ad8a0b0db214cb1a55d54008031bdb9e5294c5b7cf489091be56d6173\n",
      "created_at: 2020-08-12 09:19:51.589458+00:00\n",
      "updated_at: 2020-08-12 09:19:51.589458+00:00\n"
     ]
    }
   ],
   "source": [
    "\n",
    "s = sig.create(\n",
    "    label=\"sp_Pitch\",\n",
    "    data_type=intdash.DataType.general_sensor,\n",
    "    data_id=\"0005\",\n",
    "    channel=1,\n",
    "    conversion=intdash.ConversionNumFixedPoint(\n",
    "        startbit=32,\n",
    "        bitsize=32,\n",
    "        endian=\"little\",\n",
    "        sign=\"signed\",\n",
    "        scale=0.000001,\n",
    "        offset=0,\n",
    "    ),\n",
    "    display=intdash.Display(\n",
    "        unit=\"\",\n",
    "        min=-10,\n",
    "        max=10,\n",
    "        format=\"%f\",\n",
    "    ),\n",
    ")\n",
    "\n",
    "print(s)"
   ]
  },
  {
   "cell_type": "code",
   "execution_count": 9,
   "metadata": {},
   "outputs": [
    {
     "name": "stdout",
     "output_type": "stream",
     "text": [
      "uuid: dcedf645-1133-4119-afab-8b6aa9cce6ff\n",
      "label: sp_Roll\n",
      "description: \n",
      "data_type: 3\n",
      "data_id: 0005\n",
      "channel: 1\n",
      "conversion: startbit: 64\n",
      "bitsize: 32\n",
      "endian: little\n",
      "sign: signed\n",
      "scale: 1e-06\n",
      "offset: 0\n",
      "display: unit: \n",
      "min: -10\n",
      "max: 10\n",
      "format: %f\n",
      "hash: sha256:24f9eef81999e0a82b1b3002f4352691a48c110869084a2e35fb540ae99565f1\n",
      "created_at: 2020-08-12 09:19:52.347259+00:00\n",
      "updated_at: 2020-08-12 09:19:52.347259+00:00\n"
     ]
    }
   ],
   "source": [
    "\n",
    "s = sig.create(\n",
    "    label=\"sp_Roll\",\n",
    "    data_type=intdash.DataType.general_sensor,\n",
    "    data_id=\"0005\",\n",
    "    channel=1,\n",
    "    conversion=intdash.ConversionNumFixedPoint(\n",
    "        startbit=64,\n",
    "        bitsize=32,\n",
    "        endian=\"little\",\n",
    "        sign=\"signed\",\n",
    "        scale=0.000001,\n",
    "        offset=0,\n",
    "    ),\n",
    "    display=intdash.Display(\n",
    "        unit=\"\",\n",
    "        min=-10,\n",
    "        max=10,\n",
    "        format=\"%f\",\n",
    "    ),\n",
    ")\n",
    "\n",
    "print(s)"
   ]
  },
  {
   "cell_type": "markdown",
   "metadata": {},
   "source": [
    "### 0006 GeoLocation Coordinate"
   ]
  },
  {
   "cell_type": "markdown",
   "metadata": {},
   "source": [
    "地理的位置情報 座標"
   ]
  },
  {
   "cell_type": "code",
   "execution_count": 15,
   "metadata": {},
   "outputs": [
    {
     "name": "stdout",
     "output_type": "stream",
     "text": [
      "uuid: d0be4b6c-9566-454e-8ec8-0c9880e54a97\n",
      "label: sp_lat\n",
      "description: \n",
      "data_type: 3\n",
      "data_id: 0006\n",
      "channel: 1\n",
      "conversion: startbit: 0\n",
      "bitsize: 32\n",
      "endian: little\n",
      "sign: signed\n",
      "scale: 1e-07\n",
      "offset: 0\n",
      "display: unit: \n",
      "min: -10\n",
      "max: 10\n",
      "format: %f\n",
      "hash: sha256:8f27df1ea5ad1ccb30539d3e14ca848b0a7675871134b5e24b7706551a653cc5\n",
      "created_at: 2019-12-24 05:54:29.200961+00:00\n",
      "updated_at: 2019-12-24 05:54:29.200961+00:00\n"
     ]
    }
   ],
   "source": [
    "s = sig.create(\n",
    "    label=\"sp_lat\",\n",
    "    data_type=intdash.DataType.general_sensor,\n",
    "    data_id=\"0006\",\n",
    "    channel=1,\n",
    "    conversion=intdash.ConversionNumFixedPoint(\n",
    "        startbit=0,\n",
    "        bitsize=32,\n",
    "        endian=\"little\",\n",
    "        sign=\"signed\",\n",
    "        scale=0.0000001,\n",
    "        offset=0,\n",
    "    ),\n",
    "    display=intdash.Display(\n",
    "        unit=\"\",\n",
    "        min=-10,\n",
    "        max=10,\n",
    "        format=\"%f\",\n",
    "    ),\n",
    ")\n",
    "\n",
    "print(s)"
   ]
  },
  {
   "cell_type": "code",
   "execution_count": 16,
   "metadata": {},
   "outputs": [
    {
     "name": "stdout",
     "output_type": "stream",
     "text": [
      "uuid: fa3fcafe-e9ec-4d70-961d-953d42bfaf27\n",
      "label: sp_lng\n",
      "description: \n",
      "data_type: 3\n",
      "data_id: 0006\n",
      "channel: 1\n",
      "conversion: startbit: 32\n",
      "bitsize: 32\n",
      "endian: little\n",
      "sign: signed\n",
      "scale: 1e-07\n",
      "offset: 0\n",
      "display: unit: \n",
      "min: -10\n",
      "max: 10\n",
      "format: %f\n",
      "hash: sha256:9e335709ab26e90dbd418432ffb1d533d2ef0eec3957ec2aa4d8507b5b184e0f\n",
      "created_at: 2019-12-24 05:54:31.004525+00:00\n",
      "updated_at: 2019-12-24 05:54:31.004525+00:00\n"
     ]
    }
   ],
   "source": [
    "s = sig.create(\n",
    "    label=\"sp_lng\",\n",
    "    data_type=intdash.DataType.general_sensor,\n",
    "    data_id=\"0006\",\n",
    "    channel=1,\n",
    "    conversion=intdash.ConversionNumFixedPoint(\n",
    "        startbit=32,\n",
    "        bitsize=32,\n",
    "        endian=\"little\",\n",
    "        sign=\"signed\",\n",
    "        scale=0.0000001,\n",
    "        offset=0,\n",
    "    ),\n",
    "    display=intdash.Display(\n",
    "        unit=\"\",\n",
    "        min=-10,\n",
    "        max=10,\n",
    "        format=\"%f\",\n",
    "    ),\n",
    ")\n",
    "\n",
    "print(s)"
   ]
  },
  {
   "cell_type": "markdown",
   "metadata": {},
   "source": [
    "### 0007 GeoLocation Altitude"
   ]
  },
  {
   "cell_type": "markdown",
   "metadata": {},
   "source": [
    "地理的位置情報 高度"
   ]
  },
  {
   "cell_type": "code",
   "execution_count": 19,
   "metadata": {},
   "outputs": [
    {
     "name": "stdout",
     "output_type": "stream",
     "text": [
      "uuid: 610105c2-b868-4ee2-92e3-659858cd6cd9\n",
      "label: sp_alt\n",
      "description: \n",
      "data_type: 3\n",
      "data_id: 0007\n",
      "channel: 1\n",
      "conversion: startbit: 0\n",
      "bitsize: 32\n",
      "endian: little\n",
      "sign: signed\n",
      "scale: 0.001\n",
      "offset: 0\n",
      "display: unit: \n",
      "min: -10\n",
      "max: 10\n",
      "format: %f\n",
      "hash: sha256:c28a29252fe7bc651f79a6270bfe77715444e02dffd2ffde623f7b77d5d1bc04\n",
      "created_at: 2019-12-25 01:21:49.848413+00:00\n",
      "updated_at: 2019-12-25 01:21:49.848413+00:00\n"
     ]
    }
   ],
   "source": [
    "s = sig.create(\n",
    "    label=\"sp_alt\",\n",
    "    data_type=intdash.DataType.general_sensor,\n",
    "    data_id=\"0007\",\n",
    "    channel=1,\n",
    "    conversion=intdash.ConversionNumFixedPoint(\n",
    "        startbit=0,\n",
    "        bitsize=32,\n",
    "        endian=\"little\",\n",
    "        sign=\"signed\",\n",
    "        scale=0.001,\n",
    "        offset=0,\n",
    "    ),\n",
    "    display=intdash.Display(\n",
    "        unit=\"\",\n",
    "        min=-10,\n",
    "        max=10,\n",
    "        format=\"%f\",\n",
    "    ),\n",
    ")\n",
    "\n",
    "print(s)"
   ]
  },
  {
   "cell_type": "markdown",
   "metadata": {},
   "source": [
    "### 0008 GeoLocation Accuracy"
   ]
  },
  {
   "cell_type": "markdown",
   "metadata": {},
   "source": [
    "地理的位置情報 精度"
   ]
  },
  {
   "cell_type": "code",
   "execution_count": 20,
   "metadata": {},
   "outputs": [
    {
     "name": "stdout",
     "output_type": "stream",
     "text": [
      "uuid: ceada781-4e3a-4371-a556-8609f910f81f\n",
      "label: sp_aoc\n",
      "description: \n",
      "data_type: 3\n",
      "data_id: 0008\n",
      "channel: 1\n",
      "conversion: startbit: 0\n",
      "bitsize: 32\n",
      "endian: little\n",
      "sign: signed\n",
      "scale: 0.001\n",
      "offset: 0\n",
      "display: unit: \n",
      "min: -10\n",
      "max: 10\n",
      "format: %f\n",
      "hash: sha256:9981d3e04c2397ce598f7c670c72b82668452f2c75cccc2ef77c8fa40a6da0ae\n",
      "created_at: 2019-12-25 01:22:09.775292+00:00\n",
      "updated_at: 2019-12-25 01:22:09.775292+00:00\n"
     ]
    }
   ],
   "source": [
    "s = sig.create(\n",
    "    label=\"sp_aoc\",\n",
    "    data_type=intdash.DataType.general_sensor,\n",
    "    data_id=\"0008\",\n",
    "    channel=1,\n",
    "    conversion=intdash.ConversionNumFixedPoint(\n",
    "        startbit=0,\n",
    "        bitsize=32,\n",
    "        endian=\"little\",\n",
    "        sign=\"signed\",\n",
    "        scale=0.001,\n",
    "        offset=0,\n",
    "    ),\n",
    "    display=intdash.Display(\n",
    "        unit=\"\",\n",
    "        min=-10,\n",
    "        max=10,\n",
    "        format=\"%f\",\n",
    "    ),\n",
    ")\n",
    "\n",
    "print(s)"
   ]
  },
  {
   "cell_type": "code",
   "execution_count": 21,
   "metadata": {},
   "outputs": [
    {
     "name": "stdout",
     "output_type": "stream",
     "text": [
      "uuid: 7284372a-49e2-48e4-a0e3-a3c7d986c852\n",
      "label: sp_aoa\n",
      "description: \n",
      "data_type: 3\n",
      "data_id: 0008\n",
      "channel: 1\n",
      "conversion: startbit: 32\n",
      "bitsize: 32\n",
      "endian: little\n",
      "sign: signed\n",
      "scale: 0.001\n",
      "offset: 0\n",
      "display: unit: \n",
      "min: -10\n",
      "max: 10\n",
      "format: %f\n",
      "hash: sha256:e5348703f1ecb9bb45f4a186e965e52045e225cf6cf43b67a9f954a47cd9be28\n",
      "created_at: 2019-12-25 01:22:13.825649+00:00\n",
      "updated_at: 2019-12-25 01:22:13.825649+00:00\n"
     ]
    }
   ],
   "source": [
    "s = sig.create(\n",
    "    label=\"sp_aoa\",\n",
    "    data_type=intdash.DataType.general_sensor,\n",
    "    data_id=\"0008\",\n",
    "    channel=1,\n",
    "    conversion=intdash.ConversionNumFixedPoint(\n",
    "        startbit=32,\n",
    "        bitsize=32,\n",
    "        endian=\"little\",\n",
    "        sign=\"signed\",\n",
    "        scale=0.001,\n",
    "        offset=0,\n",
    "    ),\n",
    "    display=intdash.Display(\n",
    "        unit=\"\",\n",
    "        min=-10,\n",
    "        max=10,\n",
    "        format=\"%f\",\n",
    "    ),\n",
    ")\n",
    "\n",
    "print(s)"
   ]
  },
  {
   "cell_type": "markdown",
   "metadata": {},
   "source": [
    "### 0009 GeoLocation Heading"
   ]
  },
  {
   "cell_type": "markdown",
   "metadata": {},
   "source": [
    "地理的位置情報 方角"
   ]
  },
  {
   "cell_type": "code",
   "execution_count": 17,
   "metadata": {},
   "outputs": [
    {
     "name": "stdout",
     "output_type": "stream",
     "text": [
      "uuid: 783cd62e-5aad-4264-b981-d376196fb805\n",
      "label: sp_head\n",
      "description: \n",
      "data_type: 3\n",
      "data_id: 0009\n",
      "channel: 1\n",
      "conversion: startbit: 0\n",
      "bitsize: 32\n",
      "endian: little\n",
      "sign: signed\n",
      "scale: 1e-06\n",
      "offset: 0\n",
      "display: unit: \n",
      "min: -10\n",
      "max: 10\n",
      "format: %f\n",
      "hash: sha256:4a5756003cbf89ed2f5785d4cd4c5cc0413da90c7aba4bf410aa656c0501bc6d\n",
      "created_at: 2019-12-24 05:54:33.881841+00:00\n",
      "updated_at: 2019-12-24 05:54:33.881841+00:00\n"
     ]
    }
   ],
   "source": [
    "s = sig.create(\n",
    "    label=\"sp_head\",\n",
    "    data_type=intdash.DataType.general_sensor,\n",
    "    data_id=\"0009\",\n",
    "    channel=1,\n",
    "    conversion=intdash.ConversionNumFixedPoint(\n",
    "        startbit=0,\n",
    "        bitsize=32,\n",
    "        endian=\"little\",\n",
    "        sign=\"signed\",\n",
    "        scale=0.000001,\n",
    "        offset=0,\n",
    "    ),\n",
    "    display=intdash.Display(\n",
    "        unit=\"\",\n",
    "        min=-10,\n",
    "        max=10,\n",
    "        format=\"%f\",\n",
    "    ),\n",
    ")\n",
    "\n",
    "print(s)"
   ]
  },
  {
   "cell_type": "markdown",
   "metadata": {},
   "source": [
    "### 000A GeoLocation Speed"
   ]
  },
  {
   "cell_type": "markdown",
   "metadata": {},
   "source": [
    "地理的位置情報 移動速度"
   ]
  },
  {
   "cell_type": "code",
   "execution_count": 18,
   "metadata": {},
   "outputs": [
    {
     "name": "stdout",
     "output_type": "stream",
     "text": [
      "uuid: c26dbbf9-f7d1-434f-920a-edf26b985fbb\n",
      "label: sp_spd\n",
      "description: \n",
      "data_type: 3\n",
      "data_id: 000A\n",
      "channel: 1\n",
      "conversion: startbit: 0\n",
      "bitsize: 32\n",
      "endian: little\n",
      "sign: signed\n",
      "scale: 0.001\n",
      "offset: 0\n",
      "display: unit: \n",
      "min: -10\n",
      "max: 10\n",
      "format: %f\n",
      "hash: sha256:4ca841d8e025cc9c76e9fc1bc51c316af924b7e28d3466bdee4b4f1e8b95ec92\n",
      "created_at: 2019-12-24 05:54:35.568991+00:00\n",
      "updated_at: 2019-12-24 05:54:35.568991+00:00\n"
     ]
    }
   ],
   "source": [
    "s = sig.create(\n",
    "    label=\"sp_spd\",\n",
    "    data_type=intdash.DataType.general_sensor,\n",
    "    data_id=\"000a\",\n",
    "    channel=1,\n",
    "    conversion=intdash.ConversionNumFixedPoint(\n",
    "        startbit=0,\n",
    "        bitsize=32,\n",
    "        endian=\"little\",\n",
    "        sign=\"signed\",\n",
    "        scale=0.001,\n",
    "        offset=0,\n",
    "    ),\n",
    "    display=intdash.Display(\n",
    "        unit=\"\",\n",
    "        min=-10,\n",
    "        max=10,\n",
    "        format=\"%f\",\n",
    "    ),\n",
    ")\n",
    "\n",
    "print(s)"
   ]
  },
  {
   "cell_type": "code",
   "execution_count": null,
   "metadata": {},
   "outputs": [],
   "source": []
  }
 ],
 "metadata": {
  "kernelspec": {
   "display_name": "Python 3",
   "language": "python",
   "name": "python3"
  },
  "language_info": {
   "codemirror_mode": {
    "name": "ipython",
    "version": 3
   },
   "file_extension": ".py",
   "mimetype": "text/x-python",
   "name": "python",
   "nbconvert_exporter": "python",
   "pygments_lexer": "ipython3",
   "version": "3.8.5"
  }
 },
 "nbformat": 4,
 "nbformat_minor": 2
}
