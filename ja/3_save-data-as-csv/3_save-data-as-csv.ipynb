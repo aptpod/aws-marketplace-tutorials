{
 "cells": [
  {
   "cell_type": "markdown",
   "metadata": {},
   "source": [
    "# 3. スマートフォンの伝送データをCSVで保存してみよう"
   ]
  },
  {
   "cell_type": "markdown",
   "metadata": {},
   "source": [
    "このチュートリアルでは、iOSアプリケーション  **Visual M2M Motion** （以下 VM2M Motionと呼びます）を使用してサーバーにアップロードしたデータを、 **intdash SDK for Python** （以降 intdash SDK と呼びます） を使用してCSV形式でローカルに保存します。このケースでは、以下を中心に解説します。\n",
    "\n",
    "- スマートフォンのセンサーデータ（バイナリデータ）を数値に変換するための信号定義(※)を登録する\n",
    "- 登録した信号定義を使ってデータを取得する\n",
    "- 取得した時系列データを`pandas.DataFrame`に変換し、CSVファイルとして保存する\n",
    "\n",
    "```\n",
    " 信号定義とは、バイナリ形式のデータから一部を切り出し、数値や文字列など値データとして読み出す処理を定義したものです。\n",
    " この処理はサーバー側で実行されます。変換の種類に関しては、intdash.Conversionの派生クラスのドキュメントを参照してください     \n",
    "(https://docs.intdash.jp/sdk/python/latest/ja/signals.html#intdash.Conversion)\n",
    "```\n"
   ]
  },
  {
   "cell_type": "markdown",
   "metadata": {},
   "source": [
    "## 3.0 事前準備\n",
    "本シナリオを実施する前に、以下を用意する必要があります。\n",
    "\n",
    "- 計測用のエッジ\n",
    "- Visual M2M Motionを使用してアップロードされた計測（スマートフォンのセンサーデータを含む）\n",
    "- スマートフォンのセンサーデータに紐づく信号定義"
   ]
  },
  {
   "cell_type": "markdown",
   "metadata": {},
   "source": [
    "\n",
    "### 使用データ\n",
    "本シナリオでは、以下のデータをサーバー側に準備する必要があります。  \n",
    "\n",
    "|データ項目|本シナリオで登場するデータ名|\n",
    "|:---|:---|\n",
    "|時系列データを登録するエッジ|edge1|\n",
    "|信号定義(※)| `sp_ACCX`, `sp_ACCY`, `sp_ACCZ`, `sp_Yaw`, `sp_Pitch`, `sp_Roll`|\n",
    "\n",
    "(※) 登録方法については、以下の手順を確認してください。"
   ]
  },
  {
   "cell_type": "markdown",
   "metadata": {},
   "source": [
    "### 計測データの作成と時系列データのアップロード\n",
    "**Visual M2M Motion** を使用してデータをアップロードします。 計測を登録後、計測が新しく生成されたことを **Data Visualizer** で確認してください。\n",
    "\n",
    "アップロード方法については、 **intdashチュートリアル2A：スマートフォンの伝送データをリアルタイムに可視化してみよう** を参照してください。"
   ]
  },
  {
   "cell_type": "markdown",
   "metadata": {},
   "source": [
    "Data Visualizerの[Stored Data]に計測が表示されていれば完了です。  \n",
    "この後、この計測の時系列データを取得し、CSV形式で保存します。\n",
    "\n",
    "<img src=\"https://user-images.githubusercontent.com/70192465/94385045-103f7280-017f-11eb-8f12-30df59079069.png\">"
   ]
  },
  {
   "cell_type": "markdown",
   "metadata": {},
   "source": [
    "### パッケージのimportとクライアントの生成\n",
    "`intdash.Client` に与える `url` は intdashサーバーの環境情報から、`username` と `password` はログイン用エッジで発行したアクセス情報を指定してください。  "
   ]
  },
  {
   "cell_type": "code",
   "execution_count": 20,
   "metadata": {},
   "outputs": [],
   "source": [
    "import pandas as pd\n",
    "\n",
    "import intdash\n",
    "from intdash import timeutils\n",
    "\n",
    "# Create client\n",
    "client = intdash.Client(\n",
    "    url = \"https://example.intdash.jp\",\n",
    "    username = \"edge1\",\n",
    "    password=\"password_here\"\n",
    ")"
   ]
  },
  {
   "cell_type": "markdown",
   "metadata": {},
   "source": [
    "### 信号定義が登録されていることを確認する\n",
    "サーバー側に対象の信号定義が登録されているかどうか確認します。  \n",
    "登録されていない場合、次手順の **「(Option) 信号定義を登録する」** を参照してください。"
   ]
  },
  {
   "cell_type": "code",
   "execution_count": 7,
   "metadata": {},
   "outputs": [],
   "source": [
    "signals = client.signals.list(label='sp')"
   ]
  },
  {
   "cell_type": "code",
   "execution_count": 8,
   "metadata": {},
   "outputs": [
    {
     "name": "stdout",
     "output_type": "stream",
     "text": [
      "sp_ACCX, sp_ACCY, sp_ACCZ, sp_Pitch, sp_Roll, sp_Yaw, "
     ]
    }
   ],
   "source": [
    "for s in signals:\n",
    "    print(s.label,  end=', ')"
   ]
  },
  {
   "cell_type": "markdown",
   "metadata": {},
   "source": [
    "### (Option) 信号定義を登録する\n",
    "```\n",
    "Warning:\n",
    "    既にサーバー側に対象の信号定義が登録されている場合、本手順はスキップしてください。\n",
    "```\n",
    "\n",
    "本シナリオでは「汎用センサー型」のデータを使用します。このデータはintdash独自の形式であるため、サーバー側でスマートフォンのセンサー型から数値型（今回はFloat型）に変換します。\n",
    "この変換を行うためには、「信号定義」を登録する必要があります。\n",
    "信号定義を登録するためには、以下のファイルを実行してください。\n",
    "\n",
    "[0_create-signal-general-sensor.ipynb](../0_create-signal-general-sensor/0_create-signal-general-sensor.ipynb) \n",
    "\n",
    "今回は、「汎用センサー型」のうち、6軸センサーのデータに対してのみ変換定義を登録します。  "
   ]
  },
  {
   "cell_type": "markdown",
   "metadata": {},
   "source": [
    "以上で事前準備は終了です。"
   ]
  },
  {
   "cell_type": "markdown",
   "metadata": {},
   "source": [
    "## 3.1 計測に使用したエッジを取得する\n",
    "VM2M Motionでログインした際に使用したエッジを取得します。"
   ]
  },
  {
   "cell_type": "code",
   "execution_count": 21,
   "metadata": {},
   "outputs": [],
   "source": [
    "edges = client.edges.list(name='edge1')\n",
    "edge1 = edges[0]"
   ]
  },
  {
   "cell_type": "code",
   "execution_count": 22,
   "metadata": {},
   "outputs": [
    {
     "data": {
      "text/plain": [
       "'edge1'"
      ]
     },
     "execution_count": 22,
     "metadata": {},
     "output_type": "execute_result"
    }
   ],
   "source": [
    "edge1.name"
   ]
  },
  {
   "cell_type": "markdown",
   "metadata": {},
   "source": [
    "## 3.2 時系列データを取得する\n",
    "時系列データの取得には `client.data_points` エンドポイントを使用します。  \n",
    "`labels` に、事前に登録している信号定義のラベル名を指定して実行します。  \n",
    "`start` および `end` は実際に保存した計測を含む時間に変更してください。"
   ]
  },
  {
   "cell_type": "code",
   "execution_count": 11,
   "metadata": {},
   "outputs": [],
   "source": [
    "dps = client.data_points.list(\n",
    "    edge_name='edge1',\n",
    "    start=timeutils.str2timestamp('2020-07-17 00:00:00+09:00'), # change the actual time\n",
    "    end=timeutils.str2timestamp('2020-07-18 00:00:00+09:00'), # change the actual time\n",
    "    labels=['sp_ACCX', 'sp_ACCY', 'sp_ACCZ', 'sp_Yaw', 'sp_Pitch', 'sp_Roll'],\n",
    "    limit=0\n",
    ")"
   ]
  },
  {
   "cell_type": "markdown",
   "metadata": {},
   "source": [
    "## 3.3 DataPointsのリストをDataFrameに変換する"
   ]
  },
  {
   "cell_type": "markdown",
   "metadata": {},
   "source": [
    "以下のように指定することで、 `data_id` ごとのカラムを持つDataFrameに変換することができます。"
   ]
  },
  {
   "cell_type": "code",
   "execution_count": 12,
   "metadata": {},
   "outputs": [
    {
     "data": {
      "text/html": [
       "<div>\n",
       "<style scoped>\n",
       "    .dataframe tbody tr th:only-of-type {\n",
       "        vertical-align: middle;\n",
       "    }\n",
       "\n",
       "    .dataframe tbody tr th {\n",
       "        vertical-align: top;\n",
       "    }\n",
       "\n",
       "    .dataframe thead th {\n",
       "        text-align: right;\n",
       "    }\n",
       "</style>\n",
       "<table border=\"1\" class=\"dataframe\">\n",
       "  <thead>\n",
       "    <tr style=\"text-align: right;\">\n",
       "      <th></th>\n",
       "      <th>sp_ACCX</th>\n",
       "      <th>sp_ACCY</th>\n",
       "      <th>sp_ACCZ</th>\n",
       "      <th>sp_Yaw</th>\n",
       "      <th>sp_Pitch</th>\n",
       "      <th>sp_Roll</th>\n",
       "    </tr>\n",
       "    <tr>\n",
       "      <th>time</th>\n",
       "      <th></th>\n",
       "      <th></th>\n",
       "      <th></th>\n",
       "      <th></th>\n",
       "      <th></th>\n",
       "      <th></th>\n",
       "    </tr>\n",
       "  </thead>\n",
       "  <tbody>\n",
       "    <tr>\n",
       "      <td>2020-07-17T01:21:45.911747000Z</td>\n",
       "      <td>0.038937</td>\n",
       "      <td>0.491985</td>\n",
       "      <td>0.205379</td>\n",
       "      <td>93.873304</td>\n",
       "      <td>78.406296</td>\n",
       "      <td>3.800612</td>\n",
       "    </tr>\n",
       "    <tr>\n",
       "      <td>2020-07-17T01:21:45.931913000Z</td>\n",
       "      <td>0.139753</td>\n",
       "      <td>0.429696</td>\n",
       "      <td>-0.064305</td>\n",
       "      <td>93.758048</td>\n",
       "      <td>78.363416</td>\n",
       "      <td>3.929786</td>\n",
       "    </tr>\n",
       "    <tr>\n",
       "      <td>2020-07-17T01:21:45.952079000Z</td>\n",
       "      <td>0.102823</td>\n",
       "      <td>0.398769</td>\n",
       "      <td>-0.076985</td>\n",
       "      <td>93.788928</td>\n",
       "      <td>78.339776</td>\n",
       "      <td>3.883596</td>\n",
       "    </tr>\n",
       "    <tr>\n",
       "      <td>2020-07-17T01:21:45.972245000Z</td>\n",
       "      <td>0.046802</td>\n",
       "      <td>0.320168</td>\n",
       "      <td>-0.009198</td>\n",
       "      <td>93.819816</td>\n",
       "      <td>78.322112</td>\n",
       "      <td>3.858561</td>\n",
       "    </tr>\n",
       "    <tr>\n",
       "      <td>2020-07-17T01:21:45.992411000Z</td>\n",
       "      <td>0.009810</td>\n",
       "      <td>0.294638</td>\n",
       "      <td>-0.049083</td>\n",
       "      <td>93.846640</td>\n",
       "      <td>78.298808</td>\n",
       "      <td>3.835275</td>\n",
       "    </tr>\n",
       "    <tr>\n",
       "      <td>...</td>\n",
       "      <td>...</td>\n",
       "      <td>...</td>\n",
       "      <td>...</td>\n",
       "      <td>...</td>\n",
       "      <td>...</td>\n",
       "      <td>...</td>\n",
       "    </tr>\n",
       "    <tr>\n",
       "      <td>2020-07-17T01:22:37.276434000Z</td>\n",
       "      <td>0.295249</td>\n",
       "      <td>0.019525</td>\n",
       "      <td>0.202644</td>\n",
       "      <td>95.308896</td>\n",
       "      <td>20.844832</td>\n",
       "      <td>-8.388880</td>\n",
       "    </tr>\n",
       "    <tr>\n",
       "      <td>2020-07-17T01:22:37.296602000Z</td>\n",
       "      <td>0.090947</td>\n",
       "      <td>0.020039</td>\n",
       "      <td>-0.114039</td>\n",
       "      <td>95.321776</td>\n",
       "      <td>20.800294</td>\n",
       "      <td>-8.462379</td>\n",
       "    </tr>\n",
       "    <tr>\n",
       "      <td>2020-07-17T01:22:37.316769000Z</td>\n",
       "      <td>-0.232320</td>\n",
       "      <td>-0.185733</td>\n",
       "      <td>-0.398277</td>\n",
       "      <td>95.396584</td>\n",
       "      <td>20.714854</td>\n",
       "      <td>-8.827780</td>\n",
       "    </tr>\n",
       "    <tr>\n",
       "      <td>2020-07-17T01:22:37.336938000Z</td>\n",
       "      <td>-0.271748</td>\n",
       "      <td>-0.148195</td>\n",
       "      <td>-0.203704</td>\n",
       "      <td>95.421912</td>\n",
       "      <td>20.642018</td>\n",
       "      <td>-9.075617</td>\n",
       "    </tr>\n",
       "    <tr>\n",
       "      <td>2020-07-17T01:22:37.357105000Z</td>\n",
       "      <td>-0.086949</td>\n",
       "      <td>-0.166169</td>\n",
       "      <td>-0.003470</td>\n",
       "      <td>95.414376</td>\n",
       "      <td>20.646400</td>\n",
       "      <td>-8.944110</td>\n",
       "    </tr>\n",
       "  </tbody>\n",
       "</table>\n",
       "<p>2552 rows × 6 columns</p>\n",
       "</div>"
      ],
      "text/plain": [
       "                                 sp_ACCX   sp_ACCY   sp_ACCZ     sp_Yaw  \\\n",
       "time                                                                      \n",
       "2020-07-17T01:21:45.911747000Z  0.038937  0.491985  0.205379  93.873304   \n",
       "2020-07-17T01:21:45.931913000Z  0.139753  0.429696 -0.064305  93.758048   \n",
       "2020-07-17T01:21:45.952079000Z  0.102823  0.398769 -0.076985  93.788928   \n",
       "2020-07-17T01:21:45.972245000Z  0.046802  0.320168 -0.009198  93.819816   \n",
       "2020-07-17T01:21:45.992411000Z  0.009810  0.294638 -0.049083  93.846640   \n",
       "...                                  ...       ...       ...        ...   \n",
       "2020-07-17T01:22:37.276434000Z  0.295249  0.019525  0.202644  95.308896   \n",
       "2020-07-17T01:22:37.296602000Z  0.090947  0.020039 -0.114039  95.321776   \n",
       "2020-07-17T01:22:37.316769000Z -0.232320 -0.185733 -0.398277  95.396584   \n",
       "2020-07-17T01:22:37.336938000Z -0.271748 -0.148195 -0.203704  95.421912   \n",
       "2020-07-17T01:22:37.357105000Z -0.086949 -0.166169 -0.003470  95.414376   \n",
       "\n",
       "                                 sp_Pitch   sp_Roll  \n",
       "time                                                 \n",
       "2020-07-17T01:21:45.911747000Z  78.406296  3.800612  \n",
       "2020-07-17T01:21:45.931913000Z  78.363416  3.929786  \n",
       "2020-07-17T01:21:45.952079000Z  78.339776  3.883596  \n",
       "2020-07-17T01:21:45.972245000Z  78.322112  3.858561  \n",
       "2020-07-17T01:21:45.992411000Z  78.298808  3.835275  \n",
       "...                                   ...       ...  \n",
       "2020-07-17T01:22:37.276434000Z  20.844832 -8.388880  \n",
       "2020-07-17T01:22:37.296602000Z  20.800294 -8.462379  \n",
       "2020-07-17T01:22:37.316769000Z  20.714854 -8.827780  \n",
       "2020-07-17T01:22:37.336938000Z  20.642018 -9.075617  \n",
       "2020-07-17T01:22:37.357105000Z  20.646400 -8.944110  \n",
       "\n",
       "[2552 rows x 6 columns]"
      ]
     },
     "execution_count": 12,
     "metadata": {},
     "output_type": "execute_result"
    }
   ],
   "source": [
    "from intdash import data\n",
    "\n",
    "df = pd.DataFrame( [ {\n",
    "     'time' : d.time,\n",
    "       d.data_id : data.Float.from_payload(d.data_payload).value # convert binary to numbers.\n",
    "    }\n",
    "    for d in dps\n",
    "]).groupby(\"time\").last()\n",
    "\n",
    "df"
   ]
  },
  {
   "cell_type": "markdown",
   "metadata": {},
   "source": [
    "## 3.5 CSV形式で保存する\n",
    "DataFrameの機能を使い、CSVファイルに変換します。"
   ]
  },
  {
   "cell_type": "code",
   "execution_count": 13,
   "metadata": {},
   "outputs": [],
   "source": [
    "df.to_csv('./sample.csv')"
   ]
  },
  {
   "cell_type": "markdown",
   "metadata": {},
   "source": [
    "以下のように保存されます。\n",
    "\n",
    "<img src=\"https://user-images.githubusercontent.com/70192465/94385037-0c135500-017f-11eb-9667-781a067e0ec6.png\">"
   ]
  }
 ],
 "metadata": {
  "kernelspec": {
   "display_name": "Python 3",
   "language": "python",
   "name": "python3"
  },
  "language_info": {
   "codemirror_mode": {
    "name": "ipython",
    "version": 3
   },
   "file_extension": ".py",
   "mimetype": "text/x-python",
   "name": "python",
   "nbconvert_exporter": "python",
   "pygments_lexer": "ipython3",
   "version": "3.8.5"
  }
 },
 "nbformat": 4,
 "nbformat_minor": 4
}
