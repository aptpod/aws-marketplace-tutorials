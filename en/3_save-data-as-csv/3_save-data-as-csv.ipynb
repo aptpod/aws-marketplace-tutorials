{
 "cells": [
  {
   "cell_type": "markdown",
   "metadata": {},
   "source": [
    "# 3. Saving data from the smartphone as CSV"
   ]
  },
  {
   "cell_type": "markdown",
   "metadata": {},
   "source": [
    "In this tutorial, data uploaded to the server from the iOS application **intdash Motion** is downloaded with the **intdash SDK for Python** (hereinafter referred to as intdash SDK) and saved in CSV format locally. In this case, we will focus on the following.\n",
    "\n",
    "- Register signal definitions(\\*) for general sensor data that convert binary data into numerical values.\n",
    "- Retrieve data using registered signal definitions\n",
    "- Convert the time series data to `pandas.DataFrame` and save it as a CSV file\n",
    "\n",
    "```\n",
    "Signal definition defines the process of cutting out a part of binary data and reading it as value data such as numerical value and character string.\n",
    "This process is done on the server side. See the intdash.Conversion-derived class documentation for conversion types\n",
    "(https://docs.intdash.jp/sdk/python/latest/en/signals.html#intdash.Conversion)\n",
    "```\n"
   ]
  },
  {
   "cell_type": "markdown",
   "metadata": {},
   "source": [
    "## 3.0 Preparation\n",
    "Before starting this scenario, prepare the following.\n",
    "\n",
    "- An edge that performs measurement\n",
    "- A measurement uploaded with intdash Motion (which contains smartphone sensor data)\n",
    "- Signal definitions for smartphone sensor data"
   ]
  },
  {
   "cell_type": "markdown",
   "metadata": {},
   "source": [
    "\n",
    "### Data to be used\n",
    "In this scenario, the following data need to be prepared on the server side.\n",
    "\n",
    "| Data item | Data name that appears in this scenario |\n",
    "|:---|:---|\n",
    "| Edge to register time series data | edge1|\n",
    "| Signal definitions(\\*) | `sp_ACCX`, `sp_ACCY`, `sp_ACCZ`, `sp_Yaw`, `sp_Pitch`, `sp_Roll`|\n",
    "\n",
    "(\\*) For registration method, see the following steps."
   ]
  },
  {
   "cell_type": "markdown",
   "metadata": {},
   "source": [
    "### Create measurement data and upload time series data\n",
    "Upload the data using **intdash Motion**. After registering a measurement, use **Visual M2M Data Visualizer** to check that the new measurement has been created.\n",
    "\n",
    "For uploading method, refer to **intdash tutorial 2A: Visualizing data from smartphone in real time**."
   ]
  },
  {
   "cell_type": "markdown",
   "metadata": {},
   "source": [
    "Confirm that the new measurement is displayed in [Stored Data] of Visual M2M Data Visualizer.\n",
    "Follow the procedure below to retrieve the time series data of this measurement and save it in CSV format.\n",
    "\n",
    "<img src=\"https://github.com/aptpod/aws-marketplace-tutorials/blob/master/img/img4.png?raw=true\\\">"
   ]
  },
  {
   "cell_type": "markdown",
   "metadata": {},
   "source": [
    "### Import packages and create a client\n",
    "For `url` given to `intdash.Client`, specify the environment of the intdash server. For `username` and `password`, specify the auth information issued for the edge you use."
   ]
  },
  {
   "cell_type": "code",
   "execution_count": 20,
   "metadata": {},
   "outputs": [],
   "source": [
    "import pandas as pd\n",
    "\n",
    "import intdash\n",
    "from intdash import timeutils\n",
    "\n",
    "# Create client\n",
    "client = intdash.Client(\n",
    "    url = \"https://example.intdash.jp\",\n",
    "    username = \"edge1\",\n",
    "    password=\"password_here\"\n",
    ")"
   ]
  },
  {
   "cell_type": "markdown",
   "metadata": {},
   "source": [
    "### Confirm that the signal definitions are registered\n",
    "Confirm the registered signal definitions.  \n",
    "If it is not registered, see **(Option) Register the signal definitions** in the next step."
   ]
  },
  {
   "cell_type": "code",
   "execution_count": 7,
   "metadata": {},
   "outputs": [],
   "source": [
    "signals = client.signals.list(label='sp')"
   ]
  },
  {
   "cell_type": "code",
   "execution_count": 8,
   "metadata": {},
   "outputs": [
    {
     "name": "stdout",
     "output_type": "stream",
     "text": [
      "sp_ACCX, sp_ACCY, sp_ACCZ, sp_Pitch, sp_Roll, sp_Yaw, "
     ]
    }
   ],
   "source": [
    "for s in signals:\n",
    "    print(s.label,  end=', ')"
   ]
  },
  {
   "cell_type": "markdown",
   "metadata": {},
   "source": [
    "### (Option) Register the signal definitions\n",
    "```\n",
    "Warning:\n",
    "  If the target signal definition has already been registered to the server, skip this step.\n",
    "```\n",
    "In this scenario, \"general sensor type\" data is used. This data is in intdash original format. You need to convert the data from smartphone sensor type to numeric type (Float type this time) on the server side.\n",
    "In order to perform this conversion, it is necessary to register \"signal definitions\".\n",
    "Execute the following file to register the signal definitions.\n",
    "\n",
    "[0_create-signal-general-sensor.ipynb](../0_create-signal-general-sensor/0_create-signal-general-sensor.ipynb) \n",
    "\n",
    "In this sample, register only the conversion definition for 6-axis sensor data."
   ]
  },
  {
   "cell_type": "markdown",
   "metadata": {},
   "source": [
    "The preparations are complete."
   ]
  },
  {
   "cell_type": "markdown",
   "metadata": {},
   "source": [
    "## 3.1 Retrieve the edge used for measurement\n",
    "Retrieve the edge used when logging in with intdash Motion."
   ]
  },
  {
   "cell_type": "code",
   "execution_count": 21,
   "metadata": {},
   "outputs": [],
   "source": [
    "edges = client.edges.list(name='edge1')\n",
    "edge1 = edges[0]"
   ]
  },
  {
   "cell_type": "code",
   "execution_count": 22,
   "metadata": {},
   "outputs": [
    {
     "data": {
      "text/plain": [
       "'edge1'"
      ]
     },
     "execution_count": 22,
     "metadata": {},
     "output_type": "execute_result"
    }
   ],
   "source": [
    "edge1.name"
   ]
  },
  {
   "cell_type": "markdown",
   "metadata": {},
   "source": [
    "## 3.2 Retrieve time series data\n",
    "Use `client.data_points` to retrieve the time series data.  \n",
    "For ``labels``, specify the label names of the signal definitions.  \n",
    "``start`` and ``end`` should be changed to a time that includes the measurements created in the previous step."
   ]
  },
  {
   "cell_type": "code",
   "execution_count": 11,
   "metadata": {},
   "outputs": [],
   "source": [
    "dps = client.data_points.list(\n",
    "    edge_name='edge1',\n",
    "    start=timeutils.str2timestamp('2020-07-17 00:00:00+09:00'), # change appropriately.\n",
    "    end=timeutils.str2timestamp('2020-07-18 00:00:00+09:00'), # change appropriately.\n",
    "    labels=['sp_ACCX', 'sp_ACCY', 'sp_ACCZ', 'sp_Yaw', 'sp_Pitch', 'sp_Roll'],\n",
    "    limit=0\n",
    ")"
   ]
  },
  {
   "cell_type": "markdown",
   "metadata": {},
   "source": [
    "## 3.3 Convert list of DataPoints to a DataFrame"
   ]
  },
  {
   "cell_type": "markdown",
   "metadata": {},
   "source": [
    "You can convert the data to a DataFrame which has columns for each `data_id` as follows."
   ]
  },
  {
   "cell_type": "code",
   "execution_count": 12,
   "metadata": {},
   "outputs": [
    {
     "data": {
      "text/html": [
       "<div>\n",
       "<style scoped>\n",
       "    .dataframe tbody tr th:only-of-type {\n",
       "        vertical-align: middle;\n",
       "    }\n",
       "\n",
       "    .dataframe tbody tr th {\n",
       "        vertical-align: top;\n",
       "    }\n",
       "\n",
       "    .dataframe thead th {\n",
       "        text-align: right;\n",
       "    }\n",
       "</style>\n",
       "<table border=\"1\" class=\"dataframe\">\n",
       "  <thead>\n",
       "    <tr style=\"text-align: right;\">\n",
       "      <th></th>\n",
       "      <th>sp_ACCX</th>\n",
       "      <th>sp_ACCY</th>\n",
       "      <th>sp_ACCZ</th>\n",
       "      <th>sp_Yaw</th>\n",
       "      <th>sp_Pitch</th>\n",
       "      <th>sp_Roll</th>\n",
       "    </tr>\n",
       "    <tr>\n",
       "      <th>time</th>\n",
       "      <th></th>\n",
       "      <th></th>\n",
       "      <th></th>\n",
       "      <th></th>\n",
       "      <th></th>\n",
       "      <th></th>\n",
       "    </tr>\n",
       "  </thead>\n",
       "  <tbody>\n",
       "    <tr>\n",
       "      <td>2020-07-17T01:21:45.911747000Z</td>\n",
       "      <td>0.038937</td>\n",
       "      <td>0.491985</td>\n",
       "      <td>0.205379</td>\n",
       "      <td>93.873304</td>\n",
       "      <td>78.406296</td>\n",
       "      <td>3.800612</td>\n",
       "    </tr>\n",
       "    <tr>\n",
       "      <td>2020-07-17T01:21:45.931913000Z</td>\n",
       "      <td>0.139753</td>\n",
       "      <td>0.429696</td>\n",
       "      <td>-0.064305</td>\n",
       "      <td>93.758048</td>\n",
       "      <td>78.363416</td>\n",
       "      <td>3.929786</td>\n",
       "    </tr>\n",
       "    <tr>\n",
       "      <td>2020-07-17T01:21:45.952079000Z</td>\n",
       "      <td>0.102823</td>\n",
       "      <td>0.398769</td>\n",
       "      <td>-0.076985</td>\n",
       "      <td>93.788928</td>\n",
       "      <td>78.339776</td>\n",
       "      <td>3.883596</td>\n",
       "    </tr>\n",
       "    <tr>\n",
       "      <td>2020-07-17T01:21:45.972245000Z</td>\n",
       "      <td>0.046802</td>\n",
       "      <td>0.320168</td>\n",
       "      <td>-0.009198</td>\n",
       "      <td>93.819816</td>\n",
       "      <td>78.322112</td>\n",
       "      <td>3.858561</td>\n",
       "    </tr>\n",
       "    <tr>\n",
       "      <td>2020-07-17T01:21:45.992411000Z</td>\n",
       "      <td>0.009810</td>\n",
       "      <td>0.294638</td>\n",
       "      <td>-0.049083</td>\n",
       "      <td>93.846640</td>\n",
       "      <td>78.298808</td>\n",
       "      <td>3.835275</td>\n",
       "    </tr>\n",
       "    <tr>\n",
       "      <td>...</td>\n",
       "      <td>...</td>\n",
       "      <td>...</td>\n",
       "      <td>...</td>\n",
       "      <td>...</td>\n",
       "      <td>...</td>\n",
       "      <td>...</td>\n",
       "    </tr>\n",
       "    <tr>\n",
       "      <td>2020-07-17T01:22:37.276434000Z</td>\n",
       "      <td>0.295249</td>\n",
       "      <td>0.019525</td>\n",
       "      <td>0.202644</td>\n",
       "      <td>95.308896</td>\n",
       "      <td>20.844832</td>\n",
       "      <td>-8.388880</td>\n",
       "    </tr>\n",
       "    <tr>\n",
       "      <td>2020-07-17T01:22:37.296602000Z</td>\n",
       "      <td>0.090947</td>\n",
       "      <td>0.020039</td>\n",
       "      <td>-0.114039</td>\n",
       "      <td>95.321776</td>\n",
       "      <td>20.800294</td>\n",
       "      <td>-8.462379</td>\n",
       "    </tr>\n",
       "    <tr>\n",
       "      <td>2020-07-17T01:22:37.316769000Z</td>\n",
       "      <td>-0.232320</td>\n",
       "      <td>-0.185733</td>\n",
       "      <td>-0.398277</td>\n",
       "      <td>95.396584</td>\n",
       "      <td>20.714854</td>\n",
       "      <td>-8.827780</td>\n",
       "    </tr>\n",
       "    <tr>\n",
       "      <td>2020-07-17T01:22:37.336938000Z</td>\n",
       "      <td>-0.271748</td>\n",
       "      <td>-0.148195</td>\n",
       "      <td>-0.203704</td>\n",
       "      <td>95.421912</td>\n",
       "      <td>20.642018</td>\n",
       "      <td>-9.075617</td>\n",
       "    </tr>\n",
       "    <tr>\n",
       "      <td>2020-07-17T01:22:37.357105000Z</td>\n",
       "      <td>-0.086949</td>\n",
       "      <td>-0.166169</td>\n",
       "      <td>-0.003470</td>\n",
       "      <td>95.414376</td>\n",
       "      <td>20.646400</td>\n",
       "      <td>-8.944110</td>\n",
       "    </tr>\n",
       "  </tbody>\n",
       "</table>\n",
       "<p>2552 rows × 6 columns</p>\n",
       "</div>"
      ],
      "text/plain": [
       "                                 sp_ACCX   sp_ACCY   sp_ACCZ     sp_Yaw  \\\n",
       "time                                                                      \n",
       "2020-07-17T01:21:45.911747000Z  0.038937  0.491985  0.205379  93.873304   \n",
       "2020-07-17T01:21:45.931913000Z  0.139753  0.429696 -0.064305  93.758048   \n",
       "2020-07-17T01:21:45.952079000Z  0.102823  0.398769 -0.076985  93.788928   \n",
       "2020-07-17T01:21:45.972245000Z  0.046802  0.320168 -0.009198  93.819816   \n",
       "2020-07-17T01:21:45.992411000Z  0.009810  0.294638 -0.049083  93.846640   \n",
       "...                                  ...       ...       ...        ...   \n",
       "2020-07-17T01:22:37.276434000Z  0.295249  0.019525  0.202644  95.308896   \n",
       "2020-07-17T01:22:37.296602000Z  0.090947  0.020039 -0.114039  95.321776   \n",
       "2020-07-17T01:22:37.316769000Z -0.232320 -0.185733 -0.398277  95.396584   \n",
       "2020-07-17T01:22:37.336938000Z -0.271748 -0.148195 -0.203704  95.421912   \n",
       "2020-07-17T01:22:37.357105000Z -0.086949 -0.166169 -0.003470  95.414376   \n",
       "\n",
       "                                 sp_Pitch   sp_Roll  \n",
       "time                                                 \n",
       "2020-07-17T01:21:45.911747000Z  78.406296  3.800612  \n",
       "2020-07-17T01:21:45.931913000Z  78.363416  3.929786  \n",
       "2020-07-17T01:21:45.952079000Z  78.339776  3.883596  \n",
       "2020-07-17T01:21:45.972245000Z  78.322112  3.858561  \n",
       "2020-07-17T01:21:45.992411000Z  78.298808  3.835275  \n",
       "...                                   ...       ...  \n",
       "2020-07-17T01:22:37.276434000Z  20.844832 -8.388880  \n",
       "2020-07-17T01:22:37.296602000Z  20.800294 -8.462379  \n",
       "2020-07-17T01:22:37.316769000Z  20.714854 -8.827780  \n",
       "2020-07-17T01:22:37.336938000Z  20.642018 -9.075617  \n",
       "2020-07-17T01:22:37.357105000Z  20.646400 -8.944110  \n",
       "\n",
       "[2552 rows x 6 columns]"
      ]
     },
     "execution_count": 12,
     "metadata": {},
     "output_type": "execute_result"
    }
   ],
   "source": [
    "from intdash import data\n",
    "\n",
    "df = pd.DataFrame( [ {\n",
    "     'time' : d.time,\n",
    "       d.data_id : data.Float.from_payload(d.data_payload).value # convert binary to numbers.\n",
    "    }\n",
    "    for d in dps\n",
    "]).groupby(\"time\").last()\n",
    "\n",
    "df"
   ]
  },
  {
   "cell_type": "markdown",
   "metadata": {},
   "source": [
    "## 3.5 Save in CSV format\n",
    "Convert to a CSV file using the feature of DataFrame."
   ]
  },
  {
   "cell_type": "code",
   "execution_count": 13,
   "metadata": {},
   "outputs": [],
   "source": [
    "df.to_csv('./sample.csv')"
   ]
  },
  {
   "cell_type": "markdown",
   "metadata": {},
   "source": [
    "The saved file will look like as follows.\n",
    "\n",
    "<img src=\"https://github.com/aptpod/aws-marketplace-tutorials/blob/master/img/img1.png?raw=true\\\">"
   ]
  }
 ],
 "metadata": {
  "kernelspec": {
   "display_name": "Python 3",
   "language": "python",
   "name": "python3"
  },
  "language_info": {
   "codemirror_mode": {
    "name": "ipython",
    "version": 3
   },
   "file_extension": ".py",
   "mimetype": "text/x-python",
   "name": "python",
   "nbconvert_exporter": "python",
   "pygments_lexer": "ipython3",
   "version": "3.9.0"
  }
 },
 "nbformat": 4,
 "nbformat_minor": 4
}
