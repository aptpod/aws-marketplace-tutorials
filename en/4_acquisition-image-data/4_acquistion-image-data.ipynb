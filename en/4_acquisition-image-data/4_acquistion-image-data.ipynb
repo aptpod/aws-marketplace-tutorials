{
 "cells": [
  {
   "cell_type": "markdown",
   "metadata": {},
   "source": [
    "# 4. Saving image data transmitted from the smartphone as image files\n",
    "\n",
    "In this tutorial, use iOS application **intdash Motion** to stream video data, and save the data as images. In this case, we will focus on the following methods.\n",
    "\n",
    "* Retrieve M-JPEG data saved on the server as binary data\n",
    "* Save data as image files (.jpg)\n",
    "\n",
    "## 4.0 Preparation\n",
    "Before starting this scenario, prepare the following.\n",
    "\n",
    "- An edge that performs measurement\n",
    "- A measurement uploaded with intdash Motion (which contains images)\n",
    "\n",
    "\n",
    "### Data to be used\n",
    "In this scenario, the following data needs to be ready on the server side.\n",
    "\n",
    "| Data item | Data name that appears in this scenario |\n",
    "|:---|:---|\n",
    "| Edge to register time series data | edge1|\n",
    "|Measurement(*) |Measurement name does not appear |\n",
    "\n",
    "(\\*) Register time series data in the same way as **\"intdash tutorial 2A: Visualizing smartphone data in real time\"** using intdash Motion."
   ]
  },
  {
   "cell_type": "markdown",
   "metadata": {},
   "source": [
    "### Create measurement data and upload time series data\n",
    "Upload the data using **intdash Motion**. After registering the measurement, use **Visual M2M Data Visualizer** to check that the new measurement has been created.\n",
    "\n",
    "For uploading method, refer to **intdash tutorial 2A: Visualizing smartphone data in real time**."
   ]
  },
  {
   "cell_type": "markdown",
   "metadata": {},
   "source": [
    "Confirm that the new measurement is displayed in [Stored Data] of Data Visualizer.\n",
    "\n",
    "<img src=\"https://github.com/aptpod/aws-marketplace-tutorials/blob/master/img/img4.png?raw=true\\\">"
   ]
  },
  {
   "cell_type": "markdown",
   "metadata": {},
   "source": [
    "### Import packages and create a client\n",
    "For `url` given to `intdash.Client`, specify the environment of the intdash server. For `username` and `password`, specify the auth information issued for the edge you use."
   ]
  },
  {
   "cell_type": "code",
   "execution_count": 1,
   "metadata": {},
   "outputs": [],
   "source": [
    "import pandas as pd\n",
    "\n",
    "import intdash\n",
    "from intdash import timeutils\n",
    "\n",
    "# Create client\n",
    "client = intdash.Client(\n",
    "    url = \"https://example.intdash.jp\",\n",
    "    username = \"edge1\",\n",
    "    password=\"password_here\"\n",
    ")"
   ]
  },
  {
   "cell_type": "markdown",
   "metadata": {},
   "source": [
    "The preparations are complete."
   ]
  },
  {
   "cell_type": "markdown",
   "metadata": {},
   "source": [
    "## 4.1 Retrieve the edge used for measurement\n",
    "Retrieve the edge used when logging in with intdash Motion."
   ]
  },
  {
   "cell_type": "code",
   "execution_count": 2,
   "metadata": {},
   "outputs": [],
   "source": [
    "edges = client.edges.list(name='edge1')\n",
    "edge1 = edges[0]"
   ]
  },
  {
   "cell_type": "code",
   "execution_count": 3,
   "metadata": {},
   "outputs": [
    {
     "data": {
      "text/plain": [
       "'edge1'"
      ]
     },
     "execution_count": 3,
     "metadata": {},
     "output_type": "execute_result"
    }
   ],
   "source": [
    "edge1.name"
   ]
  },
  {
   "cell_type": "markdown",
   "metadata": {},
   "source": [
    "## 4.2 Retrieve time series data\n",
    "In this scenario, the `client.data_points` endpoint is used to retrieve the time series data. Normally, specify ``labels`` to retrieve data using signal definitions, but in this case, use `id_queries` because signal definitions are not used.  \n",
    "``start`` and ``end`` should be changed to a time that includes the measurements created in the previous step.\n",
    "\n",
    "* Normally, a ``data_id`` needs to be specified. But for JPEG data, it is not necessary to specify the ``data_id`` because the ``data_id`` for JPEG is fixed. For details, see [intdash.data.Jpeg](https://docs.intdash.jp/sdk/python/latest/en/data.html#intdash.data.JPEG) in the document."
   ]
  },
  {
   "cell_type": "code",
   "execution_count": 4,
   "metadata": {},
   "outputs": [],
   "source": [
    "dps = client.data_points.list(\n",
    "    edge_name='edge1',\n",
    "    start=timeutils.str2timestamp('2020-07-17 00:00:00+09:00'),  # change appropriately.\n",
    "    end=timeutils.str2timestamp('2020-07-18 00:00:00+09:00'),  # change appropriately.\n",
    "    id_queries=[\n",
    "        intdash.IdQuery(\n",
    "            data_type=intdash.DataType.jpeg,\n",
    "            channel=1\n",
    "        )\n",
    "    ]\n",
    ")"
   ]
  },
  {
   "cell_type": "markdown",
   "metadata": {},
   "source": [
    "## 4.3 Save the retrieved data as image files\n",
    "Save the retrieved binary data as it is as JPEG.\n",
    "Here, as a sample, only the first data point of the retrieved time series data is saved."
   ]
  },
  {
   "cell_type": "code",
   "execution_count": 5,
   "metadata": {},
   "outputs": [],
   "source": [
    "data = dps[0] #  Get the first data.\n",
    "\n",
    "with open(f'./{pd.Timestamp(data.time).value}.jpg', 'wb') as fout:\n",
    "    # Use the timestamp as the filename.\n",
    "    fout.write(data.data_payload)"
   ]
  },
  {
   "cell_type": "markdown",
   "metadata": {},
   "source": [
    "If you want to save all time series data, repeat the above."
   ]
  },
  {
   "cell_type": "code",
   "execution_count": 6,
   "metadata": {},
   "outputs": [],
   "source": [
    "import os \n",
    "\n",
    "save_dir='./images'\n",
    "\n",
    "for d in dps:\n",
    "    \n",
    "    if not os.path.isdir(save_dir):\n",
    "            os.makedirs(save_dir)\n",
    "            \n",
    "    # Use the timestamp as the filename.\n",
    "    with open(f'{save_dir}/{pd.Timestamp(d.time).value}.jpg', 'wb') as fout:\n",
    "        fout.write(d.data_payload)"
   ]
  }
 ],
 "metadata": {
  "kernelspec": {
   "display_name": "Python 3",
   "language": "python",
   "name": "python3"
  },
  "language_info": {
   "codemirror_mode": {
    "name": "ipython",
    "version": 3
   },
   "file_extension": ".py",
   "mimetype": "text/x-python",
   "name": "python",
   "nbconvert_exporter": "python",
   "pygments_lexer": "ipython3",
   "version": "3.9.0"
  }
 },
 "nbformat": 4,
 "nbformat_minor": 4
}
